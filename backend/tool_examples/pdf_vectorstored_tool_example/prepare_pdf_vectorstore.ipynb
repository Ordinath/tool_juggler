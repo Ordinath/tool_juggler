{
 "cells": [
  {
   "cell_type": "code",
   "execution_count": 1,
   "metadata": {},
   "outputs": [
    {
     "name": "stderr",
     "output_type": "stream",
     "text": [
      "Using embedded DuckDB with persistence: data will be stored in: vectorstores/how_close_is_chatgpt_to_human_experts\n"
     ]
    }
   ],
   "source": [
    "import chromadb\n",
    "from chromadb.config import Settings\n",
    "from chromadb.utils import embedding_functions\n",
    "from dotenv import load_dotenv\n",
    "import os\n",
    "load_dotenv()\n",
    "\n",
    "current_file_path = os.path.dirname(os.path.abspath(__file__))\n",
    "persist_directory = os.path.join(\n",
    "    current_file_path, '..', '..', 'vectorstores', 'how_close_is_chatgpt_to_human_experts')\n",
    "# persist_directory=\"../../vectorstores/how_close_is_chatgpt_to_human_experts\"\n",
    "# persist_directory = \"vectorstores/how_close_is_chatgpt_to_human_experts\"\n",
    "\n",
    "client = chromadb.Client(Settings(\n",
    "    chroma_db_impl=\"duckdb+parquet\",\n",
    "    # Optional, defaults to .chromadb/ in the current directory\n",
    "    persist_directory=persist_directory\n",
    "))\n",
    "\n",
    "embedding_function = embedding_functions.OpenAIEmbeddingFunction(\n",
    "    model_name=\"text-embedding-ada-002\", api_key=os.environ[\"OPENAI_API_KEY\"])\n",
    "\n",
    "collection = client.get_or_create_collection(\n",
    "    name=\"how_close_is_chatgpt_to_human_experts\", embedding_function=embedding_function)\n"
   ]
  },
  {
   "cell_type": "code",
   "execution_count": 2,
   "metadata": {},
   "outputs": [
    {
     "name": "stdout",
     "output_type": "stream",
     "text": [
      "page_content='How Close is ChatGPT to Human Experts?\\nComparison Corpus, Evaluation, and Detection\\nBiyang Guo1y\\x03, Xin Zhang2\\x03, Ziyuan Wang1\\x03, Minqi Jiang1\\x03, Jinran Nie3\\x03\\nYuxuan Ding4, Jianwei Yue5, Yupeng Wu6\\n1AI Lab, School of Information Management and Engineering\\nShanghai University of Finance and Economics\\n2Institute of Computing and Intelligence, Harbin Institute of Technology (Shenzhen)\\n3School of Information Science, Beijing Language and Culture University\\n4School of Electronic Engineering, Xidian University\\n5School of Computing, Queen’s University,6Wind Information Co., Ltd\\nAbstract\\nThe introduction of ChatGPT2has garnered widespread attention in both academic\\nand industrial communities. ChatGPT is able to respond effectively to a wide range\\nof human questions, providing ﬂuent and comprehensive answers that signiﬁcantly\\nsurpass previous public chatbots in terms of security and usefulness. On one hand,\\npeople are curious about how ChatGPT is able to achieve such strength and how\\nfar it is from human experts. On the other hand, people are starting to worry about\\nthe potential negative impacts that large language models (LLMs) like ChatGPT\\ncould have on society, such as fake news, plagiarism, and social security issues.\\nIn this work, we collected tens of thousands of comparison responses from both\\nhuman experts and ChatGPT, with questions ranging from open-domain, ﬁnancial,\\nmedical, legal, and psychological areas. We call the collected dataset the Human\\nChatGPT Comparison Corpus ( HC3 ). Based on the HC3 dataset, we study the\\ncharacteristics of ChatGPT’s responses, the differences and gaps from human\\nexperts, and future directions for LLMs. We conducted comprehensive human\\nevaluations and linguistic analyses of ChatGPT-generated content compared with\\nthat of humans, where many interesting results are revealed. After that, we conduct\\nextensive experiments on how to effectively detect whether a certain text is gener-\\nated by ChatGPT or humans. We build three different detection systems, explore\\nseveral key factors that inﬂuence their effectiveness, and evaluate them in differ-\\nent scenarios. The dataset, code, and models are all publicly available at https:\\n//github.com/Hello-SimpleAI/chatgpt-comparison-detection .\\n1 Introduction\\nSince its dazzling debut in November 2022, OpenAI’s ChatGPT has gained huge attention and wide\\ndiscussion in the natural language processing (NLP) community and many other ﬁelds. According\\nto OpenAI, ChatGPT is ﬁne-tuned from the GPT-3.5 series with Reinforcement Learning from\\nHuman Feedback (RLHF; [ 7,32]), using nearly the same methods as InstructGPT [ 25], but with\\nslight differences in the data collection setup. The vast amount of knowledge in GPT-3.5 and the\\nmeticulous ﬁne-tuning based on human feedback enable ChatGPT to excel at many challenging NLP\\n\\x03Equal Contribution.\\nyProject Lead. Corresponding to guo_biyang@163.com\\n+Each author has made unique contributions to the project.\\n2Launched by OpenAI in November 2022. https://chat.openai.com/chatarXiv:2301.07597v1  [cs.CL]  18 Jan 2023' metadata={'source': './How_Close_is_ChatGPT_to_Human_Experts.pdf', 'page': 0}\n"
     ]
    }
   ],
   "source": [
    "from langchain.document_loaders import PyPDFLoader\n",
    "\n",
    "pdf_path = \"./How_Close_is_ChatGPT_to_Human_Experts.pdf\"\n",
    "loader = PyPDFLoader(pdf_path)\n",
    "pages = loader.load_and_split()\n",
    "print(pages[0])"
   ]
  },
  {
   "cell_type": "code",
   "execution_count": 3,
   "metadata": {},
   "outputs": [],
   "source": [
    "# create an array of page_contents from the pages\n",
    "documents = [page.page_content for page in pages]\n",
    "ids = [str(i) for i in range(1, len(pages) + 1)]\n",
    "# ids = [page.metadata[\"page\"] for page in pages]\n",
    "\n",
    "# add the documents to the collection\n",
    "collection.add(\n",
    "    documents=documents,\n",
    "    ids=ids\n",
    ")"
   ]
  },
  {
   "cell_type": "code",
   "execution_count": 4,
   "metadata": {},
   "outputs": [
    {
     "name": "stdout",
     "output_type": "stream",
     "text": [
      "{'ids': [['8', '22', '3']], 'embeddings': None, 'documents': [['Overall, these summarised features indicate that ChatGPT has improved notably in question-\\nanswering tasks for a wide range of domains. Compared with humans, we can imagine ChatGPT\\nas a conservative team of experts. As a \"team\", it may lack individuality but can have a more\\ncomprehensive and neutral view towards questions.\\n6', 'for low-resource text classiﬁcation. arXiv preprint arXiv:2209.01560 , 2022.\\n[17] Songqiao Han, Xiyang Hu, Hailiang Huang, Minqi Jiang, and Yue Zhao. Adbench: Anomaly\\ndetection benchmark. Advances in Neural Information Processing Systems (NeurIPS) , 2022.\\n17', 'web-crawled text, books, and codes, making it able to respond to all kinds of questions. Therefore,\\nwe are curious how will a human (especially an expert) and ChatGPT respond to the same question\\nrespectively. Inspired by [ 1], we also want to evaluate whether ChatGPT can keep honest (not\\nfabricate information or mislead the user), harmless (shouldn’t generate harmful or offensive content),\\n3https://openai.com/blog/chatgpt/\\n4https://meta.stackoverflow.com/questions/421831/temporary-policy-chatgpt-is-banned\\n2']], 'metadatas': [[None, None, None]], 'distances': [[0.48205775022506714, 0.49416619539260864, 0.5003783702850342]]}\n"
     ]
    }
   ],
   "source": [
    "results = collection.query(\n",
    "    query_texts=[\"What is this paper about in general?\"],\n",
    "    n_results=3,\n",
    ")\n",
    "\n",
    "print(results)\n"
   ]
  },
  {
   "cell_type": "code",
   "execution_count": 5,
   "metadata": {},
   "outputs": [
    {
     "data": {
      "text/plain": [
       "True"
      ]
     },
     "execution_count": 5,
     "metadata": {},
     "output_type": "execute_result"
    }
   ],
   "source": [
    "client.persist()"
   ]
  }
 ],
 "metadata": {
  "kernelspec": {
   "display_name": "Python 3",
   "language": "python",
   "name": "python3"
  },
  "language_info": {
   "codemirror_mode": {
    "name": "ipython",
    "version": 3
   },
   "file_extension": ".py",
   "mimetype": "text/x-python",
   "name": "python",
   "nbconvert_exporter": "python",
   "pygments_lexer": "ipython3",
   "version": "3.10.10"
  },
  "orig_nbformat": 4
 },
 "nbformat": 4,
 "nbformat_minor": 2
}
