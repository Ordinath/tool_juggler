{
 "cells": [
  {
   "cell_type": "code",
   "execution_count": null,
   "metadata": {},
   "outputs": [],
   "source": [
    "import sys\n",
    "from pathlib import Path\n",
    "\n",
    "# Add the parent directory of the nested module to sys.path\n",
    "module_parent_dir = str(Path('../../').resolve())  # Adjust the relative path as needed\n",
    "if module_parent_dir not in sys.path:\n",
    "    sys.path.insert(0, module_parent_dir)\n",
    "\n",
    "from datetime import datetime\n",
    "from db_models import Conversation, Message, Embedding, db\n",
    "from app import app\n",
    "\n",
    "conversation_id = \"2e17180c-c5d9-4ae5-8275-81ee8cbdbe1b\"\n",
    "messages_to_embed = \"\"\n",
    "\n",
    "with app.app_context():\n",
    "    conv = Conversation.query.get_or_404(conversation_id)\n",
    "    for msg in conv.messages:\n",
    "\n",
    "        timestamp = datetime.fromisoformat(msg.timestamp.replace(\"Z\", \"\"))\n",
    "        formatted_timestamp = timestamp.strftime(\"%Y-%m-%d %H:%M\")\n",
    "\n",
    "        new_msg = \"\"\"\\n{timestamp} - {sender}: {content}\"\"\"\n",
    "        messages_to_embed += new_msg.format(timestamp=formatted_timestamp, sender=msg.sender, content=msg.content)\n",
    "\n",
    "print(messages_to_embed)"
   ]
  },
  {
   "cell_type": "code",
   "execution_count": null,
   "metadata": {},
   "outputs": [],
   "source": [
    "from langchain.text_splitter import RecursiveCharacterTextSplitter\n",
    "from typing import Any, List\n",
    "\n",
    "\n",
    "text_splitter = RecursiveCharacterTextSplitter(chunk_size=500, chunk_overlap=0)\n",
    "\n",
    "messages_to_embed_chunks = text_splitter.split_text(messages_to_embed)\n",
    "print(messages_to_embed_chunks)\n",
    "len(messages_to_embed_chunks)\n"
   ]
  },
  {
   "cell_type": "code",
   "execution_count": null,
   "metadata": {},
   "outputs": [],
   "source": [
    "import chromadb\n",
    "from chromadb.config import Settings\n",
    "from chromadb.utils import embedding_functions\n",
    "\n",
    "persist_directory = 'vectorstores/long_term_memory_chroma'\n",
    "\n",
    "client = chromadb.Client(Settings(\n",
    "    chroma_db_impl=\"duckdb+parquet\",\n",
    "    persist_directory=persist_directory # Optional, defaults to .chromadb/ in the current directory\n",
    "))\n",
    "\n",
    "client.persist()\n",
    "\n",
    "sentence_transformer_ef = embedding_functions.SentenceTransformerEmbeddingFunction(model_name=\"all-MiniLM-L6-v2\")\n",
    "\n",
    "collection = client.get_or_create_collection(\n",
    "    name=\"long_term_memory_collection\", embedding_function=sentence_transformer_ef)\n",
    "# collection = client.get_collection(\n",
    "#     name=\"long_term_memory_collection\", embedding_function=sentence_transformer_ef)\n"
   ]
  },
  {
   "cell_type": "code",
   "execution_count": null,
   "metadata": {},
   "outputs": [],
   "source": [
    "def process_embeddings(conversation_id, vectorstore_collection, embedding_strings):\n",
    "    new_embeddings = []\n",
    "\n",
    "    with app.app_context():\n",
    "        # Get the conversation by ID\n",
    "        conversation = Conversation.query.get_or_404(conversation_id)\n",
    "        conversation.embedded = True\n",
    "        db.session.commit()\n",
    "\n",
    "        # Check if the conversation has any embeddings\n",
    "        if conversation.embeddings:\n",
    "\n",
    "            existing_embedding_ids = [\n",
    "                embedding.id for embedding in conversation.embeddings]\n",
    "\n",
    "            # Delete existing embeddings from vectorstore\n",
    "            vectorstore_collection.delete(ids=existing_embedding_ids)\n",
    "\n",
    "            # Delete existing embeddings from SQLite database\n",
    "            Embedding.query.filter_by(conversation_id=conversation_id).delete()\n",
    "            db.session.commit()\n",
    "\n",
    "        # Create new embeddings and add them to the SQLite database\n",
    "        for content in embedding_strings:\n",
    "            new_embedding = Embedding(conversation_id=conversation_id)\n",
    "            db.session.add(new_embedding)\n",
    "            db.session.commit()\n",
    "            new_embeddings.append({\"id\": new_embedding.id, \"content\": content})\n",
    "\n",
    "        # Add new embeddings to vectorstore\n",
    "        documents = [item['content'] for item in new_embeddings]\n",
    "        ids = [item['id'] for item in new_embeddings]\n",
    "        vectorstore_collection.add(documents=documents, ids=ids)\n",
    "\n",
    "    return new_embeddings\n",
    "\n",
    "\n",
    "result = process_embeddings(\n",
    "    conversation_id, collection, messages_to_embed_chunks)\n",
    "print(result)\n"
   ]
  },
  {
   "cell_type": "code",
   "execution_count": 5,
   "metadata": {},
   "outputs": [],
   "source": [
    "results = collection.query(\n",
    "    query_texts=[\"condition\"],\n",
    "    n_results=1,\n",
    ")\n",
    "# print(results[\"documents\"][0][0])"
   ]
  },
  {
   "cell_type": "code",
   "execution_count": null,
   "metadata": {},
   "outputs": [],
   "source": [
    "collection.count()\n",
    "collection.peek()"
   ]
  },
  {
   "cell_type": "code",
   "execution_count": 9,
   "metadata": {},
   "outputs": [
    {
     "data": {
      "text/plain": [
       "True"
      ]
     },
     "execution_count": 9,
     "metadata": {},
     "output_type": "execute_result"
    }
   ],
   "source": [
    "\n",
    "with app.app_context():\n",
    "    Conversation.query.update({Conversation.embedded: False})\n",
    "    db.session.commit()\n",
    "    Embedding.query.delete()\n",
    "    db.session.commit()\n",
    "client.reset()"
   ]
  }
 ],
 "metadata": {
  "kernelspec": {
   "display_name": "Python 3",
   "language": "python",
   "name": "python3"
  },
  "language_info": {
   "codemirror_mode": {
    "name": "ipython",
    "version": 3
   },
   "file_extension": ".py",
   "mimetype": "text/x-python",
   "name": "python",
   "nbconvert_exporter": "python",
   "pygments_lexer": "ipython3",
   "version": "3.10.10"
  },
  "orig_nbformat": 4
 },
 "nbformat": 4,
 "nbformat_minor": 2
}
